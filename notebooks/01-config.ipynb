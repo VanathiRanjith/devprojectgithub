{
 "cells": [
  {
   "cell_type": "code",
   "execution_count": 0,
   "metadata": {
    "application/vnd.databricks.v1+cell": {
     "cellMetadata": {},
     "inputWidgets": {},
     "nuid": "1b106e15-3e4c-4f6d-91bf-1749a01446f0",
     "showTitle": false,
     "tableResultSettingsMap": {},
     "title": ""
    }
   },
   "outputs": [],
   "source": [
    "# 01-config\n",
    "\n",
    "dbutils.widgets.text(\"input_path\", \"\")\n",
    "dbutils.widgets.text(\"output_path\", \"\")\n",
    "\n",
    "input_path = dbutils.widgets.get(\"input_path\")\n",
    "output_path = dbutils.widgets.get(\"output_path\")\n",
    "\n",
    "# Store global variables in Databricks DBUtils for reuse\n",
    "dbutils.jobs.taskValues.set(key=\"input_path\", value=input_path)\n",
    "dbutils.jobs.taskValues.set(key=\"output_path\", value=output_path)\n",
    "\n",
    "print(f\"Configured input_path: {input_path}\")\n",
    "print(f\"Configured output_path: {output_path}\")\n",
    "\n"
   ]
  }
 ],
 "metadata": {
  "application/vnd.databricks.v1+notebook": {
   "computePreferences": null,
   "dashboards": [],
   "environmentMetadata": {
    "base_environment": "",
    "environment_version": "2"
   },
   "inputWidgetPreferences": null,
   "language": "python",
   "notebookMetadata": {
    "pythonIndentUnit": 4
   },
   "notebookName": "01-config",
   "widgets": {}
  },
  "language_info": {
   "name": "python"
  }
 },
 "nbformat": 4,
 "nbformat_minor": 0
}
