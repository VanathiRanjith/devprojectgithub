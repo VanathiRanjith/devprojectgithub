{
 "cells": [
  {
   "cell_type": "code",
   "execution_count": 0,
   "metadata": {
    "application/vnd.databricks.v1+cell": {
     "cellMetadata": {
      "byteLimit": 2048000,
      "rowLimit": 10000
     },
     "inputWidgets": {},
     "nuid": "1b106e15-3e4c-4f6d-91bf-1749a01446f0",
     "showTitle": false,
     "tableResultSettingsMap": {},
     "title": ""
    }
   },
   "outputs": [],
   "source": [
    "# 01-config.py (Corrected explicitly)\n",
    "\n",
    "input_path = \"/FileStore/dev/input/transactions.csv\"\n",
    "input_dir = \"/FileStore/dev/input/\"\n",
    "output_path = \"/FileStore/dev/output/\"\n",
    "\n",
    "print(\"✅ Checking input directory for file existence:\")\n",
    "try:\n",
    "    files = dbutils.fs.ls(input_dir)\n",
    "    filenames = [file.name for file in files]\n",
    "    if \"transactions.csv\" in filenames:\n",
    "        print(\"✅ transactions.csv file found.\")\n",
    "    else:\n",
    "        raise FileNotFoundError(\"transactions.csv not found in directory.\")\n",
    "except Exception as e:\n",
    "    print(f\"❌ Error accessing input directory: {e}\")\n",
    "    raise e\n",
    "\n",
    "print(\"✅ Checking and creating output directory:\")\n",
    "try:\n",
    "    dbutils.fs.mkdirs(output_path)\n",
    "    print(f\"✅ Output path '{output_path}' is ready.\")\n",
    "except Exception as e:\n",
    "    print(f\"❌ Error creating output directory: {e}\")\n",
    "    raise e\n",
    "\n",
    "# Set values explicitly for next notebooks\n",
    "dbutils.jobs.taskValues.set(\"input_path\", input_path)\n",
    "dbutils.jobs.taskValues.set(\"output_path\", output_path)\n"
   ]
  }
 ],
 "metadata": {
  "application/vnd.databricks.v1+notebook": {
   "computePreferences": null,
   "dashboards": [],
   "environmentMetadata": {
    "base_environment": "",
    "environment_version": "2"
   },
   "inputWidgetPreferences": null,
   "language": "python",
   "notebookMetadata": {
    "pythonIndentUnit": 4
   },
   "notebookName": "01-config",
   "widgets": {
    "input_path": {
     "currentValue": "/FileStore/dev/input/transactions.csv",
     "nuid": "bf491351-d3d4-40e4-9651-5d4c9af1db44",
     "typedWidgetInfo": {
      "autoCreated": false,
      "defaultValue": "",
      "label": null,
      "name": "input_path",
      "options": {
       "widgetDisplayType": "Text",
       "validationRegex": null
      },
      "parameterDataType": "String"
     },
     "widgetInfo": {
      "widgetType": "text",
      "defaultValue": "",
      "label": null,
      "name": "input_path",
      "options": {
       "widgetType": "text",
       "autoCreated": null,
       "validationRegex": null
      }
     }
    },
    "output_path": {
     "currentValue": "/FileStore/dev/output/",
     "nuid": "8f626d53-b15f-46b9-a361-30b31b5181a2",
     "typedWidgetInfo": {
      "autoCreated": false,
      "defaultValue": "",
      "label": null,
      "name": "output_path",
      "options": {
       "widgetDisplayType": "Text",
       "validationRegex": null
      },
      "parameterDataType": "String"
     },
     "widgetInfo": {
      "widgetType": "text",
      "defaultValue": "",
      "label": null,
      "name": "output_path",
      "options": {
       "widgetType": "text",
       "autoCreated": null,
       "validationRegex": null
      }
     }
    }
   }
  },
  "language_info": {
   "name": "python"
  }
 },
 "nbformat": 4,
 "nbformat_minor": 0
}
