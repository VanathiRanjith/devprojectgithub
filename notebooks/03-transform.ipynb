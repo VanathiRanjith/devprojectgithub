{
 "cells": [
  {
   "cell_type": "code",
   "execution_count": 0,
   "metadata": {
    "application/vnd.databricks.v1+cell": {
     "cellMetadata": {},
     "inputWidgets": {},
     "nuid": "59f438dd-dd98-472e-af01-42d6df5ced33",
     "showTitle": false,
     "tableResultSettingsMap": {},
     "title": ""
    }
   },
   "outputs": [],
   "source": [
    "# 03-transform.py\n",
    "from pyspark.sql import SparkSession\n",
    "spark = SparkSession.builder.getOrCreate()\n",
    "\n",
    "# Fetch data from temporary view created previously\n",
    "raw_df = spark.sql(\"SELECT * FROM raw_data\")\n",
    "\n",
    "# Example transformation: Filter and aggregation\n",
    "from pyspark.sql.functions import col, avg\n",
    "\n",
    "transformed_df = (\n",
    "    raw_df.filter(col(\"status\") == \"active\")\n",
    "          .groupBy(\"category\")\n",
    "          .agg(avg(\"amount\").alias(\"average_amount\"))\n",
    ")\n",
    "\n",
    "# Register transformed data as temp view\n",
    "transformed_df.createOrReplaceTempView(\"transformed_data\")\n",
    "\n",
    "print(\"Data transformation completed successfully.\")\n"
   ]
  }
 ],
 "metadata": {
  "application/vnd.databricks.v1+notebook": {
   "computePreferences": null,
   "dashboards": [],
   "environmentMetadata": {
    "base_environment": "",
    "environment_version": "2"
   },
   "inputWidgetPreferences": null,
   "language": "python",
   "notebookMetadata": {
    "pythonIndentUnit": 4
   },
   "notebookName": "03-transform",
   "widgets": {}
  },
  "language_info": {
   "name": "python"
  }
 },
 "nbformat": 4,
 "nbformat_minor": 0
}
