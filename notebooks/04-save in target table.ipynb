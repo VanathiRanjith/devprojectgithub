{
 "cells": [
  {
   "cell_type": "code",
   "execution_count": 0,
   "metadata": {
    "application/vnd.databricks.v1+cell": {
     "cellMetadata": {},
     "inputWidgets": {},
     "nuid": "42d85778-8863-4679-9a41-59e60493cb9d",
     "showTitle": false,
     "tableResultSettingsMap": {},
     "title": ""
    }
   },
   "outputs": [],
   "source": [
    "# 04-save in target table.py\n",
    "\n",
    "spark = SparkSession.builder.getOrCreate()\n",
    "\n",
    "output_path = dbutils.jobs.taskValues.get(taskKey=\"01-config\", key=\"output_path\")\n",
    "\n",
    "# Get transformed data clearly\n",
    "final_df = spark.sql(\"SELECT * FROM transformed_data\")\n",
    "\n",
    "# Save clearly as Delta format\n",
    "final_df.write.format(\"delta\") \\\n",
    "    .mode(\"overwrite\") \\\n",
    "    .save(output_path)\n",
    "\n",
    "# Optional: Create a Delta table clearly\n",
    "spark.sql(f\"\"\"\n",
    "    CREATE TABLE IF NOT EXISTS analytics.target_table\n",
    "    USING DELTA\n",
    "    LOCATION '{output_path}'\n",
    "\"\"\")\n",
    "\n",
    "print(f\"✅ Data saved successfully at {output_path}\")\n"
   ]
  }
 ],
 "metadata": {
  "application/vnd.databricks.v1+notebook": {
   "computePreferences": null,
   "dashboards": [],
   "environmentMetadata": {
    "base_environment": "",
    "environment_version": "2"
   },
   "inputWidgetPreferences": null,
   "language": "python",
   "notebookMetadata": {
    "pythonIndentUnit": 4
   },
   "notebookName": "04-save in target table",
   "widgets": {}
  },
  "language_info": {
   "name": "python"
  }
 },
 "nbformat": 4,
 "nbformat_minor": 0
}
