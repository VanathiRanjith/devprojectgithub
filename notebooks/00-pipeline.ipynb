{
 "cells": [
  {
   "cell_type": "code",
   "execution_count": 0,
   "metadata": {
    "application/vnd.databricks.v1+cell": {
     "cellMetadata": {
      "byteLimit": 2048000,
      "rowLimit": 10000
     },
     "inputWidgets": {},
     "nuid": "fc74e8ae-3a29-4c27-ae18-5c8691f32c49",
     "showTitle": false,
     "tableResultSettingsMap": {},
     "title": ""
    }
   },
   "outputs": [],
   "source": [
    "# 00-pipeline.py\n",
    "\n",
    "# Hardcoded parameters\n",
    "input_path = \"/FileStore/dev/input/transactions.csv\"\n",
    "output_path = \"/FileStore/dev/output/\"\n",
    "\n",
    "# Run configuration setup notebook\n",
    "dbutils.notebook.run(\"/Shared/devprojectgithub/notebooks/01-config\", 300, {\n",
    "    \"input_path\": input_path,\n",
    "    \"output_path\": output_path\n",
    "})\n",
    "\n",
    "# Run notebook to read data\n",
    "dbutils.notebook.run(\"/Shared/devprojectgithub/notebooks/02-read data\", 600)\n",
    "\n",
    "# Run transformation notebook\n",
    "dbutils.notebook.run(\"/Shared/devprojectgithub/notebooks/03-transform\", 1200)\n",
    "\n",
    "# Run notebook to save final data\n",
    "dbutils.notebook.run(\"/Shared/devprojectgithub/notebooks/04-save in target table\", 600)\n"
   ]
  }
 ],
 "metadata": {
  "application/vnd.databricks.v1+notebook": {
   "computePreferences": null,
   "dashboards": [],
   "environmentMetadata": {
    "base_environment": "",
    "environment_version": "2"
   },
   "inputWidgetPreferences": null,
   "language": "python",
   "notebookMetadata": {
    "pythonIndentUnit": 4
   },
   "notebookName": "00-pipeline",
   "widgets": {
    "input_path": {
     "currentValue": "/FileStore/dev/input/transactions.csv",
     "nuid": "3195cf2b-6263-4ec3-bc5d-be3f150915be",
     "typedWidgetInfo": {
      "autoCreated": false,
      "defaultValue": "",
      "label": null,
      "name": "input_path",
      "options": {
       "widgetDisplayType": "Text",
       "validationRegex": null
      },
      "parameterDataType": "String"
     },
     "widgetInfo": {
      "widgetType": "text",
      "defaultValue": "",
      "label": null,
      "name": "input_path",
      "options": {
       "widgetType": "text",
       "autoCreated": null,
       "validationRegex": null
      }
     }
    },
    "output_path": {
     "currentValue": "/FileStore/dev/output/",
     "nuid": "e43e10dc-2212-48ca-a656-26acd29b2ee1",
     "typedWidgetInfo": {
      "autoCreated": false,
      "defaultValue": "",
      "label": null,
      "name": "output_path",
      "options": {
       "widgetDisplayType": "Text",
       "validationRegex": null
      },
      "parameterDataType": "String"
     },
     "widgetInfo": {
      "widgetType": "text",
      "defaultValue": "",
      "label": null,
      "name": "output_path",
      "options": {
       "widgetType": "text",
       "autoCreated": null,
       "validationRegex": null
      }
     }
    }
   }
  },
  "language_info": {
   "name": "python"
  }
 },
 "nbformat": 4,
 "nbformat_minor": 0
}
