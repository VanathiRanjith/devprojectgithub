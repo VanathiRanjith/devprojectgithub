{
 "cells": [
  {
   "cell_type": "code",
   "execution_count": 0,
   "metadata": {
    "application/vnd.databricks.v1+cell": {
     "cellMetadata": {},
     "inputWidgets": {},
     "nuid": "fc74e8ae-3a29-4c27-ae18-5c8691f32c49",
     "showTitle": false,
     "tableResultSettingsMap": {},
     "title": ""
    }
   },
   "outputs": [],
   "source": [
    "# 00-pipeline.py\n",
    "\n",
    "dbutils.widgets.text(\"input_path\", \"\")\n",
    "dbutils.widgets.text(\"output_path\", \"\")\n",
    "\n",
    "input_path = dbutils.widgets.get(\"input_path\")\n",
    "output_path = dbutils.widgets.get(\"output_path\")\n",
    "\n",
    "# Run configuration setup notebook\n",
    "dbutils.notebook.run(\"/Shared/devprojectgithub/notebooks/01-config\", 300, {\n",
    "    \"input_path\": input_path,\n",
    "    \"output_path\": output_path\n",
    "})\n",
    "\n",
    "# Run notebook to read data\n",
    "dbutils.notebook.run(\"/Shared/devprojectgithub/notebooks/02-read data\", 600, {\n",
    "    \"input_path\": input_path\n",
    "})\n",
    "\n",
    "# Run transformation notebook\n",
    "dbutils.notebook.run(\"/Shared/devprojectgithub/notebooks/03-transform\", 1200)\n",
    "\n",
    "# Run notebook to save final data\n",
    "dbutils.notebook.run(\"/Shared/devprojectgithub/notebooks/04-save in target table\", 600, {\n",
    "    \"output_path\": output_path\n",
    "})\n"
   ]
  }
 ],
 "metadata": {
  "application/vnd.databricks.v1+notebook": {
   "computePreferences": null,
   "dashboards": [],
   "environmentMetadata": {
    "base_environment": "",
    "environment_version": "2"
   },
   "inputWidgetPreferences": null,
   "language": "python",
   "notebookMetadata": {
    "pythonIndentUnit": 4
   },
   "notebookName": "00-pipeline",
   "widgets": {}
  },
  "language_info": {
   "name": "python"
  }
 },
 "nbformat": 4,
 "nbformat_minor": 0
}
